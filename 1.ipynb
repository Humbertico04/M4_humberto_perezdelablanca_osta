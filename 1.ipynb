{
 "cells": [
  {
   "cell_type": "markdown",
   "metadata": {},
   "source": [
    "Importa pandas y usa un alias para poder utilizar sus recursos"
   ]
  },
  {
   "cell_type": "code",
   "execution_count": 50,
   "metadata": {},
   "outputs": [],
   "source": [
    "import pandas as pd"
   ]
  },
  {
   "cell_type": "markdown",
   "metadata": {},
   "source": [
    "Cargar como dataframe de pandas el csv imdb_titulos.csv y mostrar sus 5 primeros registros"
   ]
  },
  {
   "cell_type": "code",
   "execution_count": 51,
   "metadata": {},
   "outputs": [
    {
     "data": {
      "text/html": [
       "<div>\n",
       "<style scoped>\n",
       "    .dataframe tbody tr th:only-of-type {\n",
       "        vertical-align: middle;\n",
       "    }\n",
       "\n",
       "    .dataframe tbody tr th {\n",
       "        vertical-align: top;\n",
       "    }\n",
       "\n",
       "    .dataframe thead th {\n",
       "        text-align: right;\n",
       "    }\n",
       "</style>\n",
       "<table border=\"1\" class=\"dataframe\">\n",
       "  <thead>\n",
       "    <tr style=\"text-align: right;\">\n",
       "      <th></th>\n",
       "      <th>title</th>\n",
       "      <th>year</th>\n",
       "    </tr>\n",
       "  </thead>\n",
       "  <tbody>\n",
       "    <tr>\n",
       "      <th>0</th>\n",
       "      <td>Mahler</td>\n",
       "      <td>1974</td>\n",
       "    </tr>\n",
       "    <tr>\n",
       "      <th>1</th>\n",
       "      <td>Ogon, voda i... mednye truby</td>\n",
       "      <td>1968</td>\n",
       "    </tr>\n",
       "    <tr>\n",
       "      <th>2</th>\n",
       "      <td>Ana Nojoom bent alasherah wamotalagah</td>\n",
       "      <td>2014</td>\n",
       "    </tr>\n",
       "    <tr>\n",
       "      <th>3</th>\n",
       "      <td>Malu de Bicicleta</td>\n",
       "      <td>2010</td>\n",
       "    </tr>\n",
       "    <tr>\n",
       "      <th>4</th>\n",
       "      <td>Nazareno Apostol: Boy Ahas</td>\n",
       "      <td>1989</td>\n",
       "    </tr>\n",
       "  </tbody>\n",
       "</table>\n",
       "</div>"
      ],
      "text/plain": [
       "                                   title  year\n",
       "0                                 Mahler  1974\n",
       "1           Ogon, voda i... mednye truby  1968\n",
       "2  Ana Nojoom bent alasherah wamotalagah  2014\n",
       "3                      Malu de Bicicleta  2010\n",
       "4             Nazareno Apostol: Boy Ahas  1989"
      ]
     },
     "execution_count": 51,
     "metadata": {},
     "output_type": "execute_result"
    }
   ],
   "source": [
    "ruta = \"./imdb_titulos.csv\"\n",
    "dft = pd.read_csv(ruta, delimiter=\",\")\n",
    "dft.head(5)"
   ]
  },
  {
   "cell_type": "markdown",
   "metadata": {},
   "source": [
    "Cargar como dataframe de pandas el csv imdb_elenco.csv y mostrar sus 5 primeros registros"
   ]
  },
  {
   "cell_type": "code",
   "execution_count": 52,
   "metadata": {},
   "outputs": [
    {
     "data": {
      "text/html": [
       "<div>\n",
       "<style scoped>\n",
       "    .dataframe tbody tr th:only-of-type {\n",
       "        vertical-align: middle;\n",
       "    }\n",
       "\n",
       "    .dataframe tbody tr th {\n",
       "        vertical-align: top;\n",
       "    }\n",
       "\n",
       "    .dataframe thead th {\n",
       "        text-align: right;\n",
       "    }\n",
       "</style>\n",
       "<table border=\"1\" class=\"dataframe\">\n",
       "  <thead>\n",
       "    <tr style=\"text-align: right;\">\n",
       "      <th></th>\n",
       "      <th>title</th>\n",
       "      <th>year</th>\n",
       "      <th>name</th>\n",
       "      <th>type</th>\n",
       "      <th>character</th>\n",
       "      <th>n</th>\n",
       "    </tr>\n",
       "  </thead>\n",
       "  <tbody>\n",
       "    <tr>\n",
       "      <th>0</th>\n",
       "      <td>Closet Monster</td>\n",
       "      <td>2015</td>\n",
       "      <td>Buffy #1</td>\n",
       "      <td>actor</td>\n",
       "      <td>Buffy 4</td>\n",
       "      <td>31.0</td>\n",
       "    </tr>\n",
       "    <tr>\n",
       "      <th>1</th>\n",
       "      <td>Suuri illusioni</td>\n",
       "      <td>1985</td>\n",
       "      <td>Homo $</td>\n",
       "      <td>actor</td>\n",
       "      <td>Guests</td>\n",
       "      <td>22.0</td>\n",
       "    </tr>\n",
       "    <tr>\n",
       "      <th>2</th>\n",
       "      <td>Battle of the Sexes</td>\n",
       "      <td>2017</td>\n",
       "      <td>$hutter</td>\n",
       "      <td>actor</td>\n",
       "      <td>Bobby Riggs Fan</td>\n",
       "      <td>10.0</td>\n",
       "    </tr>\n",
       "    <tr>\n",
       "      <th>3</th>\n",
       "      <td>Secret in Their Eyes</td>\n",
       "      <td>2015</td>\n",
       "      <td>$hutter</td>\n",
       "      <td>actor</td>\n",
       "      <td>2002 Dodger Fan</td>\n",
       "      <td>NaN</td>\n",
       "    </tr>\n",
       "    <tr>\n",
       "      <th>4</th>\n",
       "      <td>Steve Jobs</td>\n",
       "      <td>2015</td>\n",
       "      <td>$hutter</td>\n",
       "      <td>actor</td>\n",
       "      <td>1988 Opera House Patron</td>\n",
       "      <td>NaN</td>\n",
       "    </tr>\n",
       "  </tbody>\n",
       "</table>\n",
       "</div>"
      ],
      "text/plain": [
       "                  title  year      name   type                character     n\n",
       "0        Closet Monster  2015  Buffy #1  actor                  Buffy 4  31.0\n",
       "1       Suuri illusioni  1985    Homo $  actor                   Guests  22.0\n",
       "2   Battle of the Sexes  2017   $hutter  actor          Bobby Riggs Fan  10.0\n",
       "3  Secret in Their Eyes  2015   $hutter  actor          2002 Dodger Fan   NaN\n",
       "4            Steve Jobs  2015   $hutter  actor  1988 Opera House Patron   NaN"
      ]
     },
     "execution_count": 52,
     "metadata": {},
     "output_type": "execute_result"
    }
   ],
   "source": [
    "ruta = \"./imdb_elenco.csv\"\n",
    "dfe = pd.read_csv(ruta, delimiter=\",\")\n",
    "dfe.head(5)"
   ]
  },
  {
   "cell_type": "markdown",
   "metadata": {},
   "source": [
    "Mostrar el número de registros del dataframe de titulos"
   ]
  },
  {
   "cell_type": "code",
   "execution_count": 53,
   "metadata": {},
   "outputs": [
    {
     "name": "stdout",
     "output_type": "stream",
     "text": [
      "Número de titulos: 230407\n"
     ]
    }
   ],
   "source": [
    "print(\"Número de titulos:\", len(dft))"
   ]
  },
  {
   "cell_type": "markdown",
   "metadata": {},
   "source": [
    "Mostrar el número de registros del dataframe de elenco"
   ]
  },
  {
   "cell_type": "code",
   "execution_count": 54,
   "metadata": {},
   "outputs": [
    {
     "name": "stdout",
     "output_type": "stream",
     "text": [
      "Número de registros en elenco: 3564650\n"
     ]
    }
   ],
   "source": [
    "print(\"Número de registros en elenco:\", len(dfe))"
   ]
  },
  {
   "cell_type": "markdown",
   "metadata": {},
   "source": [
    "Mostrar las 5 peliculas más antiguas del listado de titulos"
   ]
  },
  {
   "cell_type": "code",
   "execution_count": 55,
   "metadata": {},
   "outputs": [
    {
     "name": "stdout",
     "output_type": "stream",
     "text": [
      "Las 5 películas más antiguas son: \n",
      "\n"
     ]
    },
    {
     "data": {
      "text/html": [
       "<div>\n",
       "<style scoped>\n",
       "    .dataframe tbody tr th:only-of-type {\n",
       "        vertical-align: middle;\n",
       "    }\n",
       "\n",
       "    .dataframe tbody tr th {\n",
       "        vertical-align: top;\n",
       "    }\n",
       "\n",
       "    .dataframe thead th {\n",
       "        text-align: right;\n",
       "    }\n",
       "</style>\n",
       "<table border=\"1\" class=\"dataframe\">\n",
       "  <thead>\n",
       "    <tr style=\"text-align: right;\">\n",
       "      <th></th>\n",
       "      <th>title</th>\n",
       "      <th>year</th>\n",
       "    </tr>\n",
       "  </thead>\n",
       "  <tbody>\n",
       "    <tr>\n",
       "      <th>13229</th>\n",
       "      <td>Miss Jerry</td>\n",
       "      <td>1894</td>\n",
       "    </tr>\n",
       "    <tr>\n",
       "      <th>103233</th>\n",
       "      <td>The Startled Lover</td>\n",
       "      <td>1898</td>\n",
       "    </tr>\n",
       "    <tr>\n",
       "      <th>133020</th>\n",
       "      <td>Reproduction of the Corbett and Jeffries Fight</td>\n",
       "      <td>1899</td>\n",
       "    </tr>\n",
       "    <tr>\n",
       "      <th>51528</th>\n",
       "      <td>Family Troubles (II)</td>\n",
       "      <td>1900</td>\n",
       "    </tr>\n",
       "    <tr>\n",
       "      <th>195127</th>\n",
       "      <td>Pierrot's Problem, or How to Make a Fat Wife O...</td>\n",
       "      <td>1900</td>\n",
       "    </tr>\n",
       "  </tbody>\n",
       "</table>\n",
       "</div>"
      ],
      "text/plain": [
       "                                                    title  year\n",
       "13229                                          Miss Jerry  1894\n",
       "103233                                 The Startled Lover  1898\n",
       "133020     Reproduction of the Corbett and Jeffries Fight  1899\n",
       "51528                                Family Troubles (II)  1900\n",
       "195127  Pierrot's Problem, or How to Make a Fat Wife O...  1900"
      ]
     },
     "execution_count": 55,
     "metadata": {},
     "output_type": "execute_result"
    }
   ],
   "source": [
    "print(\"Las 5 películas más antiguas son: \\n\")\n",
    "dft.sort_values(by=\"year\").head(5)"
   ]
  },
  {
   "cell_type": "markdown",
   "metadata": {},
   "source": [
    "Mostrar las peliculas que en el titulo tienen la palabra \"Dracula\". También mostrar el número total de peliculas que coincidan con este requisito"
   ]
  },
  {
   "cell_type": "code",
   "execution_count": null,
   "metadata": {},
   "outputs": [],
   "source": [
    "\n"
   ]
  },
  {
   "cell_type": "code",
   "execution_count": 103,
   "metadata": {},
   "outputs": [
    {
     "name": "stdout",
     "output_type": "stream",
     "text": [
      "Las películas con Dracula en el nombre son: \n",
      "                                                 title  year\n",
      "0                          Bonnie & Clyde vs. Dracula  2008\n",
      "1                                    House of Dracula  1945\n",
      "2                                      Batman Dracula  1964\n",
      "3                                   Terror of Dracula  2012\n",
      "4                                      Dracula Rising  1993\n",
      "5                                    Die Hard Dracula  1998\n",
      "6                         Dracula (The Dirty Old Man)  1969\n",
      "7                                    Scars of Dracula  1970\n",
      "8                                             Dracula  1992\n",
      "9                    Dracula vs the Ninja on the Moon  2009\n",
      "10                                            Dracula  1958\n",
      "11  Il cav. Costante Nicosia demoniaco, ovvero: Dr...  1975\n",
      "12                                   Tales of Dracula  2015\n",
      "13                                   Blood of Dracula  1957\n",
      "14                                     Tendre Dracula  1974\n",
      "15                          Blood of Dracula's Castle  1969\n",
      "16                             Dracula's Family Visit  2006\n",
      "17                                            Dracula  1999\n",
      "18                   Dracula Has Risen from the Grave  1968\n",
      "19               Dracula: Pages from a Virgin's Diary  2002\n",
      "20                                 I Dream of Dracula  2003\n",
      "21                                     Dracula Reborn  2015\n",
      "22                              The Brides of Dracula  1960\n",
      "23              Guess What Happened to Count Dracula?  1971\n",
      "24                                            Dracula  1931\n",
      "25                           Galgali familywa Dracula  2003\n",
      "26                                       Dracula 2012  2013\n",
      "27                                    Dracula's Guest  2008\n",
      "28                       Billy the Kid Versus Dracula  1966\n",
      "29                                     Khooni Dracula  1992\n",
      "30                                    Dawn of Dracula  2013\n",
      "31                              The Return of Dracula  1958\n",
      "32                              Batman Fights Dracula  1967\n",
      "33                                        Dracula 0.9  2012\n",
      "34                                  Dracula A.D. 2015  2015\n",
      "35                                       Lady Dracula  1977\n",
      "36                        Les Charlots contre Dracula  1980\n",
      "37                                The Sins of Dracula  2014\n",
      "38                                       Mama Dracula  1980\n",
      "39                                Dracula the Impaler  2002\n",
      "40                                         Dracula 3D  2012\n",
      "41                                  Blood for Dracula  1974\n",
      "42                            Fracchia contro Dracula  1985\n",
      "43                                    Dracula's Widow  1988\n",
      "44                                    Cult of Dracula  2016\n",
      "45                                      Dracula's War  2018\n",
      "46                        Dracula: Dead and Loving It  1995\n",
      "47                                  Kwansukui Dracula  1982\n",
      "48                                    Dracula: Reborn  2012\n",
      "49                                            Dracula  2019\n",
      "50                                     Son of Dracula  1943\n",
      "51                            Il risveglio di Dracula  1963\n",
      "52                        Dracula: Prince of Darkness  1966\n",
      "53                 The Making of 'Dracula and Stoker'  2012\n",
      "54                                   Countess Dracula  1971\n",
      "55                                     Dracula Untold  2014\n",
      "56                                   Dreaming Dracula  2014\n",
      "57                         Creep Creepersin's Dracula  2013\n",
      "58                                       Dracula 2000  2000\n",
      "59                                            Dracula  1979\n",
      "60                                    Dracula's Curse  2006\n",
      "61                         Graf Dracula in Oberbayern  1979\n",
      "62                                   Shaitani Dracula  2006\n",
      "63                          Killer Barbys vs. Dracula  2002\n",
      "64                                 Dracula's Daughter  1936\n",
      "65                       Dracula's Orgy of the Damned  2013\n",
      "66                                       Dracula 3000  2004\n",
      "67                           Dracula vs. Frankenstein  1971\n",
      "68                                     Doctor Dracula  1978\n",
      "69                           Frankenstein vs. Dracula  2018\n",
      "70                           Dracula: The Dark Prince  2013\n",
      "71      Allen and Rossi Meet Dracula and Frankenstein  1974\n",
      "72                                La fille de Dracula  1972\n",
      "73                                   Saint Dracula 3D  2012\n",
      "74                                    Dracula's Angel  2014\n",
      "75                       Nachts, wenn Dracula erwacht  1970\n",
      "76                         Taste the Blood of Dracula  1970\n",
      "77                                  Dracula A.D. 1972  1972\n",
      "78                                      Dracula's Dog  1978\n",
      "79                                        Dracula Now  2015\n",
      "80                       The Satanic Rites of Dracula  1973\n",
      "81                                     Son of Dracula  1974\n",
      "82                                 Dracula and Stoker  2012 \n",
      "Total películas: 83\n"
     ]
    }
   ],
   "source": [
    "pd.options.display.max_rows = None\n",
    "drac=dft[dft[\"title\"].str.contains(\"Dracula\")].reset_index().drop(['index'], axis=1)\n",
    "print(\"Las películas con Dracula en el nombre son: \\n\", drac, \"\\nTotal películas:\", len(drac))"
   ]
  },
  {
   "cell_type": "markdown",
   "metadata": {},
   "source": [
    "Mostrar los 10 titulos más comunes (que más se repiten)"
   ]
  },
  {
   "cell_type": "code",
   "execution_count": 67,
   "metadata": {},
   "outputs": [
    {
     "name": "stdout",
     "output_type": "stream",
     "text": [
      "Los 10 títulos más comunes son:\n"
     ]
    },
    {
     "data": {
      "text/plain": [
       "Hamlet                  19\n",
       "Carmen                  16\n",
       "Macbeth                 15\n",
       "Maya                    11\n",
       "The Outsider            11\n",
       "Hero                    11\n",
       "Othello                 11\n",
       "The Three Musketeers    11\n",
       "Anna                    10\n",
       "Vengeance               10\n",
       "Name: title, dtype: int64"
      ]
     },
     "execution_count": 67,
     "metadata": {},
     "output_type": "execute_result"
    }
   ],
   "source": [
    "print(\"Los 10 títulos más comunes son:\") \n",
    "dft[\"title\"].value_counts().head(10)"
   ]
  },
  {
   "cell_type": "markdown",
   "metadata": {},
   "source": [
    "Mostrar cual fue la primer pelicula hecha titulada \"Romeo and Juliet\""
   ]
  },
  {
   "cell_type": "code",
   "execution_count": 104,
   "metadata": {},
   "outputs": [
    {
     "name": "stdout",
     "output_type": "stream",
     "text": [
      "              title  year\n",
      "0  Romeo and Juliet  1916\n",
      "La primera película titulada Romeo and Juliet fue estrenada en 1916\n"
     ]
    }
   ],
   "source": [
    "RyJ=dft[dft[\"title\"].str.contains(\"Romeo and Juliet\")].sort_values(by=\"year\").head(1).reset_index().drop(['index'], axis=1)\n",
    "print(RyJ)\n",
    "print(\"La primera película titulada {} fue estrenada en {}\".format(RyJ['title'].iloc[0], RyJ['year'].iloc[0]))\n"
   ]
  },
  {
   "cell_type": "markdown",
   "metadata": {},
   "source": [
    "Listar todas las peliculas que contengan la palabra \"Exorcist\" ordenadas de la más vieja a la más reciente"
   ]
  },
  {
   "cell_type": "code",
   "execution_count": 105,
   "metadata": {},
   "outputs": [
    {
     "data": {
      "text/html": [
       "<div>\n",
       "<style scoped>\n",
       "    .dataframe tbody tr th:only-of-type {\n",
       "        vertical-align: middle;\n",
       "    }\n",
       "\n",
       "    .dataframe tbody tr th {\n",
       "        vertical-align: top;\n",
       "    }\n",
       "\n",
       "    .dataframe thead th {\n",
       "        text-align: right;\n",
       "    }\n",
       "</style>\n",
       "<table border=\"1\" class=\"dataframe\">\n",
       "  <thead>\n",
       "    <tr style=\"text-align: right;\">\n",
       "      <th></th>\n",
       "      <th>title</th>\n",
       "      <th>year</th>\n",
       "    </tr>\n",
       "  </thead>\n",
       "  <tbody>\n",
       "    <tr>\n",
       "      <th>0</th>\n",
       "      <td>The Exorcist</td>\n",
       "      <td>1973</td>\n",
       "    </tr>\n",
       "    <tr>\n",
       "      <th>1</th>\n",
       "      <td>O Exorcista de Mulheres</td>\n",
       "      <td>1974</td>\n",
       "    </tr>\n",
       "    <tr>\n",
       "      <th>2</th>\n",
       "      <td>Exorcist II: The Heretic</td>\n",
       "      <td>1977</td>\n",
       "    </tr>\n",
       "    <tr>\n",
       "      <th>3</th>\n",
       "      <td>Kung Fu Exorcist</td>\n",
       "      <td>1978</td>\n",
       "    </tr>\n",
       "    <tr>\n",
       "      <th>4</th>\n",
       "      <td>The Exorcist III</td>\n",
       "      <td>1990</td>\n",
       "    </tr>\n",
       "    <tr>\n",
       "      <th>5</th>\n",
       "      <td>Teenage Exorcist</td>\n",
       "      <td>1991</td>\n",
       "    </tr>\n",
       "    <tr>\n",
       "      <th>6</th>\n",
       "      <td>Exorcist: The Beginning</td>\n",
       "      <td>2004</td>\n",
       "    </tr>\n",
       "    <tr>\n",
       "      <th>7</th>\n",
       "      <td>Dominion: Prequel to the Exorcist</td>\n",
       "      <td>2005</td>\n",
       "    </tr>\n",
       "    <tr>\n",
       "      <th>8</th>\n",
       "      <td>Costa Chica: Confession of an Exorcist</td>\n",
       "      <td>2006</td>\n",
       "    </tr>\n",
       "    <tr>\n",
       "      <th>9</th>\n",
       "      <td>Exorcist Chronicles</td>\n",
       "      <td>2007</td>\n",
       "    </tr>\n",
       "    <tr>\n",
       "      <th>10</th>\n",
       "      <td>The Disco Exorcist</td>\n",
       "      <td>2011</td>\n",
       "    </tr>\n",
       "    <tr>\n",
       "      <th>11</th>\n",
       "      <td>Exorcist Chronicles</td>\n",
       "      <td>2013</td>\n",
       "    </tr>\n",
       "    <tr>\n",
       "      <th>12</th>\n",
       "      <td>Shark Exorcist</td>\n",
       "      <td>2015</td>\n",
       "    </tr>\n",
       "    <tr>\n",
       "      <th>13</th>\n",
       "      <td>Bad Exorcists</td>\n",
       "      <td>2015</td>\n",
       "    </tr>\n",
       "    <tr>\n",
       "      <th>14</th>\n",
       "      <td>Exorcistas</td>\n",
       "      <td>2015</td>\n",
       "    </tr>\n",
       "    <tr>\n",
       "      <th>15</th>\n",
       "      <td>Accidental Exorcist</td>\n",
       "      <td>2016</td>\n",
       "    </tr>\n",
       "    <tr>\n",
       "      <th>16</th>\n",
       "      <td>American Exorcist</td>\n",
       "      <td>2016</td>\n",
       "    </tr>\n",
       "    <tr>\n",
       "      <th>17</th>\n",
       "      <td>Diary of an Exorcist</td>\n",
       "      <td>2016</td>\n",
       "    </tr>\n",
       "    <tr>\n",
       "      <th>18</th>\n",
       "      <td>Exorcist House of Evil</td>\n",
       "      <td>2016</td>\n",
       "    </tr>\n",
       "  </tbody>\n",
       "</table>\n",
       "</div>"
      ],
      "text/plain": [
       "                                     title  year\n",
       "0                             The Exorcist  1973\n",
       "1                  O Exorcista de Mulheres  1974\n",
       "2                 Exorcist II: The Heretic  1977\n",
       "3                         Kung Fu Exorcist  1978\n",
       "4                         The Exorcist III  1990\n",
       "5                         Teenage Exorcist  1991\n",
       "6                  Exorcist: The Beginning  2004\n",
       "7        Dominion: Prequel to the Exorcist  2005\n",
       "8   Costa Chica: Confession of an Exorcist  2006\n",
       "9                      Exorcist Chronicles  2007\n",
       "10                      The Disco Exorcist  2011\n",
       "11                     Exorcist Chronicles  2013\n",
       "12                          Shark Exorcist  2015\n",
       "13                           Bad Exorcists  2015\n",
       "14                              Exorcistas  2015\n",
       "15                     Accidental Exorcist  2016\n",
       "16                       American Exorcist  2016\n",
       "17                    Diary of an Exorcist  2016\n",
       "18                  Exorcist House of Evil  2016"
      ]
     },
     "execution_count": 105,
     "metadata": {},
     "output_type": "execute_result"
    }
   ],
   "source": [
    "dft[dft[\"title\"].str.contains(\"Exorcist\")].sort_values(by=\"year\").reset_index().drop(['index'], axis=1)"
   ]
  },
  {
   "cell_type": "markdown",
   "metadata": {},
   "source": [
    "Mostrar cuantas peliculas fueron hechas en el año 1950"
   ]
  },
  {
   "cell_type": "code",
   "execution_count": 115,
   "metadata": {},
   "outputs": [
    {
     "name": "stdout",
     "output_type": "stream",
     "text": [
      "Películas hechas en 1950: 1081\n"
     ]
    }
   ],
   "source": [
    "print(\"Películas hechas en 1950:\", len(dft[dft[\"year\"]==1950]))"
   ]
  },
  {
   "cell_type": "markdown",
   "metadata": {},
   "source": []
  }
 ],
 "metadata": {
  "kernelspec": {
   "display_name": "Python 3.10.7 64-bit",
   "language": "python",
   "name": "python3"
  },
  "language_info": {
   "codemirror_mode": {
    "name": "ipython",
    "version": 3
   },
   "file_extension": ".py",
   "mimetype": "text/x-python",
   "name": "python",
   "nbconvert_exporter": "python",
   "pygments_lexer": "ipython3",
   "version": "3.10.7"
  },
  "orig_nbformat": 4,
  "vscode": {
   "interpreter": {
    "hash": "5264f721a23242131e2cd1435c6f396c4a07f3216f42f5a927698946e7ff8eef"
   }
  }
 },
 "nbformat": 4,
 "nbformat_minor": 2
}
