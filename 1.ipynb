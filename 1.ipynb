{
 "cells": [
  {
   "cell_type": "markdown",
   "metadata": {},
   "source": [
    "Importa pandas y usa un alias para poder utilizar sus recursos"
   ]
  },
  {
   "cell_type": "code",
   "execution_count": 2,
   "metadata": {},
   "outputs": [],
   "source": [
    "import pandas as pd"
   ]
  },
  {
   "cell_type": "markdown",
   "metadata": {},
   "source": [
    "Cargar como dataframe de pandas el csv imdb_titulos.csv y mostrar sus 5 primeros registros"
   ]
  },
  {
   "cell_type": "code",
   "execution_count": 3,
   "metadata": {},
   "outputs": [
    {
     "data": {
      "text/html": [
       "<div>\n",
       "<style scoped>\n",
       "    .dataframe tbody tr th:only-of-type {\n",
       "        vertical-align: middle;\n",
       "    }\n",
       "\n",
       "    .dataframe tbody tr th {\n",
       "        vertical-align: top;\n",
       "    }\n",
       "\n",
       "    .dataframe thead th {\n",
       "        text-align: right;\n",
       "    }\n",
       "</style>\n",
       "<table border=\"1\" class=\"dataframe\">\n",
       "  <thead>\n",
       "    <tr style=\"text-align: right;\">\n",
       "      <th></th>\n",
       "      <th>title</th>\n",
       "      <th>year</th>\n",
       "    </tr>\n",
       "  </thead>\n",
       "  <tbody>\n",
       "    <tr>\n",
       "      <th>0</th>\n",
       "      <td>Mahler</td>\n",
       "      <td>1974</td>\n",
       "    </tr>\n",
       "    <tr>\n",
       "      <th>1</th>\n",
       "      <td>Ogon, voda i... mednye truby</td>\n",
       "      <td>1968</td>\n",
       "    </tr>\n",
       "    <tr>\n",
       "      <th>2</th>\n",
       "      <td>Ana Nojoom bent alasherah wamotalagah</td>\n",
       "      <td>2014</td>\n",
       "    </tr>\n",
       "    <tr>\n",
       "      <th>3</th>\n",
       "      <td>Malu de Bicicleta</td>\n",
       "      <td>2010</td>\n",
       "    </tr>\n",
       "    <tr>\n",
       "      <th>4</th>\n",
       "      <td>Nazareno Apostol: Boy Ahas</td>\n",
       "      <td>1989</td>\n",
       "    </tr>\n",
       "  </tbody>\n",
       "</table>\n",
       "</div>"
      ],
      "text/plain": [
       "                                   title  year\n",
       "0                                 Mahler  1974\n",
       "1           Ogon, voda i... mednye truby  1968\n",
       "2  Ana Nojoom bent alasherah wamotalagah  2014\n",
       "3                      Malu de Bicicleta  2010\n",
       "4             Nazareno Apostol: Boy Ahas  1989"
      ]
     },
     "execution_count": 3,
     "metadata": {},
     "output_type": "execute_result"
    }
   ],
   "source": [
    "ruta = \"./imdb_titulos.csv\"\n",
    "dft = pd.read_csv(ruta, delimiter=\",\")\n",
    "dft.head(5)"
   ]
  },
  {
   "cell_type": "markdown",
   "metadata": {},
   "source": [
    "Cargar como dataframe de pandas el csv imdb_elenco.csv y mostrar sus 5 primeros registros"
   ]
  },
  {
   "cell_type": "code",
   "execution_count": 4,
   "metadata": {},
   "outputs": [
    {
     "data": {
      "text/html": [
       "<div>\n",
       "<style scoped>\n",
       "    .dataframe tbody tr th:only-of-type {\n",
       "        vertical-align: middle;\n",
       "    }\n",
       "\n",
       "    .dataframe tbody tr th {\n",
       "        vertical-align: top;\n",
       "    }\n",
       "\n",
       "    .dataframe thead th {\n",
       "        text-align: right;\n",
       "    }\n",
       "</style>\n",
       "<table border=\"1\" class=\"dataframe\">\n",
       "  <thead>\n",
       "    <tr style=\"text-align: right;\">\n",
       "      <th></th>\n",
       "      <th>title</th>\n",
       "      <th>year</th>\n",
       "      <th>name</th>\n",
       "      <th>type</th>\n",
       "      <th>character</th>\n",
       "      <th>n</th>\n",
       "    </tr>\n",
       "  </thead>\n",
       "  <tbody>\n",
       "    <tr>\n",
       "      <th>0</th>\n",
       "      <td>Closet Monster</td>\n",
       "      <td>2015</td>\n",
       "      <td>Buffy #1</td>\n",
       "      <td>actor</td>\n",
       "      <td>Buffy 4</td>\n",
       "      <td>31.0</td>\n",
       "    </tr>\n",
       "    <tr>\n",
       "      <th>1</th>\n",
       "      <td>Suuri illusioni</td>\n",
       "      <td>1985</td>\n",
       "      <td>Homo $</td>\n",
       "      <td>actor</td>\n",
       "      <td>Guests</td>\n",
       "      <td>22.0</td>\n",
       "    </tr>\n",
       "    <tr>\n",
       "      <th>2</th>\n",
       "      <td>Battle of the Sexes</td>\n",
       "      <td>2017</td>\n",
       "      <td>$hutter</td>\n",
       "      <td>actor</td>\n",
       "      <td>Bobby Riggs Fan</td>\n",
       "      <td>10.0</td>\n",
       "    </tr>\n",
       "    <tr>\n",
       "      <th>3</th>\n",
       "      <td>Secret in Their Eyes</td>\n",
       "      <td>2015</td>\n",
       "      <td>$hutter</td>\n",
       "      <td>actor</td>\n",
       "      <td>2002 Dodger Fan</td>\n",
       "      <td>NaN</td>\n",
       "    </tr>\n",
       "    <tr>\n",
       "      <th>4</th>\n",
       "      <td>Steve Jobs</td>\n",
       "      <td>2015</td>\n",
       "      <td>$hutter</td>\n",
       "      <td>actor</td>\n",
       "      <td>1988 Opera House Patron</td>\n",
       "      <td>NaN</td>\n",
       "    </tr>\n",
       "  </tbody>\n",
       "</table>\n",
       "</div>"
      ],
      "text/plain": [
       "                  title  year      name   type                character     n\n",
       "0        Closet Monster  2015  Buffy #1  actor                  Buffy 4  31.0\n",
       "1       Suuri illusioni  1985    Homo $  actor                   Guests  22.0\n",
       "2   Battle of the Sexes  2017   $hutter  actor          Bobby Riggs Fan  10.0\n",
       "3  Secret in Their Eyes  2015   $hutter  actor          2002 Dodger Fan   NaN\n",
       "4            Steve Jobs  2015   $hutter  actor  1988 Opera House Patron   NaN"
      ]
     },
     "execution_count": 4,
     "metadata": {},
     "output_type": "execute_result"
    }
   ],
   "source": [
    "ruta = \"./imdb_elenco.csv\"\n",
    "dfe = pd.read_csv(ruta, delimiter=\",\")\n",
    "dfe.head(5)"
   ]
  },
  {
   "cell_type": "markdown",
   "metadata": {},
   "source": [
    "Mostrar el número de registros del dataframe de titulos"
   ]
  },
  {
   "cell_type": "code",
   "execution_count": 5,
   "metadata": {},
   "outputs": [
    {
     "name": "stdout",
     "output_type": "stream",
     "text": [
      "Número de titulos: 230407\n"
     ]
    }
   ],
   "source": [
    "print(\"Número de titulos:\", len(dft))"
   ]
  },
  {
   "cell_type": "markdown",
   "metadata": {},
   "source": [
    "Mostrar el número de registros del dataframe de elenco"
   ]
  },
  {
   "cell_type": "code",
   "execution_count": 6,
   "metadata": {},
   "outputs": [
    {
     "name": "stdout",
     "output_type": "stream",
     "text": [
      "Número de registros en elenco: 3564650\n"
     ]
    }
   ],
   "source": [
    "print(\"Número de registros en elenco:\", len(dfe))"
   ]
  },
  {
   "cell_type": "markdown",
   "metadata": {},
   "source": [
    "Mostrar las 5 peliculas más antiguas del listado de titulos"
   ]
  },
  {
   "cell_type": "code",
   "execution_count": 7,
   "metadata": {},
   "outputs": [
    {
     "name": "stdout",
     "output_type": "stream",
     "text": [
      "Las 5 películas más antiguas son: \n",
      "\n"
     ]
    },
    {
     "data": {
      "text/html": [
       "<div>\n",
       "<style scoped>\n",
       "    .dataframe tbody tr th:only-of-type {\n",
       "        vertical-align: middle;\n",
       "    }\n",
       "\n",
       "    .dataframe tbody tr th {\n",
       "        vertical-align: top;\n",
       "    }\n",
       "\n",
       "    .dataframe thead th {\n",
       "        text-align: right;\n",
       "    }\n",
       "</style>\n",
       "<table border=\"1\" class=\"dataframe\">\n",
       "  <thead>\n",
       "    <tr style=\"text-align: right;\">\n",
       "      <th></th>\n",
       "      <th>title</th>\n",
       "      <th>year</th>\n",
       "    </tr>\n",
       "  </thead>\n",
       "  <tbody>\n",
       "    <tr>\n",
       "      <th>13229</th>\n",
       "      <td>Miss Jerry</td>\n",
       "      <td>1894</td>\n",
       "    </tr>\n",
       "    <tr>\n",
       "      <th>103233</th>\n",
       "      <td>The Startled Lover</td>\n",
       "      <td>1898</td>\n",
       "    </tr>\n",
       "    <tr>\n",
       "      <th>133020</th>\n",
       "      <td>Reproduction of the Corbett and Jeffries Fight</td>\n",
       "      <td>1899</td>\n",
       "    </tr>\n",
       "    <tr>\n",
       "      <th>51528</th>\n",
       "      <td>Family Troubles (II)</td>\n",
       "      <td>1900</td>\n",
       "    </tr>\n",
       "    <tr>\n",
       "      <th>195127</th>\n",
       "      <td>Pierrot's Problem, or How to Make a Fat Wife O...</td>\n",
       "      <td>1900</td>\n",
       "    </tr>\n",
       "  </tbody>\n",
       "</table>\n",
       "</div>"
      ],
      "text/plain": [
       "                                                    title  year\n",
       "13229                                          Miss Jerry  1894\n",
       "103233                                 The Startled Lover  1898\n",
       "133020     Reproduction of the Corbett and Jeffries Fight  1899\n",
       "51528                                Family Troubles (II)  1900\n",
       "195127  Pierrot's Problem, or How to Make a Fat Wife O...  1900"
      ]
     },
     "execution_count": 7,
     "metadata": {},
     "output_type": "execute_result"
    }
   ],
   "source": [
    "print(\"Las 5 películas más antiguas son: \\n\")\n",
    "dft.sort_values(by=\"year\").head(5)"
   ]
  },
  {
   "cell_type": "markdown",
   "metadata": {},
   "source": [
    "Mostrar las peliculas que en el titulo tienen la palabra \"Dracula\". También mostrar el número total de peliculas que coincidan con este requisito"
   ]
  },
  {
   "cell_type": "code",
   "execution_count": null,
   "metadata": {},
   "outputs": [],
   "source": [
    "\n"
   ]
  },
  {
   "cell_type": "code",
   "execution_count": 8,
   "metadata": {},
   "outputs": [
    {
     "name": "stdout",
     "output_type": "stream",
     "text": [
      "Las películas con Dracula en el nombre son: \n",
      "                                                 title  year\n",
      "0                          Bonnie & Clyde vs. Dracula  2008\n",
      "1                                    House of Dracula  1945\n",
      "2                                      Batman Dracula  1964\n",
      "3                                   Terror of Dracula  2012\n",
      "4                                      Dracula Rising  1993\n",
      "5                                    Die Hard Dracula  1998\n",
      "6                         Dracula (The Dirty Old Man)  1969\n",
      "7                                    Scars of Dracula  1970\n",
      "8                                             Dracula  1992\n",
      "9                    Dracula vs the Ninja on the Moon  2009\n",
      "10                                            Dracula  1958\n",
      "11  Il cav. Costante Nicosia demoniaco, ovvero: Dr...  1975\n",
      "12                                   Tales of Dracula  2015\n",
      "13                                   Blood of Dracula  1957\n",
      "14                                     Tendre Dracula  1974\n",
      "15                          Blood of Dracula's Castle  1969\n",
      "16                             Dracula's Family Visit  2006\n",
      "17                                            Dracula  1999\n",
      "18                   Dracula Has Risen from the Grave  1968\n",
      "19               Dracula: Pages from a Virgin's Diary  2002\n",
      "20                                 I Dream of Dracula  2003\n",
      "21                                     Dracula Reborn  2015\n",
      "22                              The Brides of Dracula  1960\n",
      "23              Guess What Happened to Count Dracula?  1971\n",
      "24                                            Dracula  1931\n",
      "25                           Galgali familywa Dracula  2003\n",
      "26                                       Dracula 2012  2013\n",
      "27                                    Dracula's Guest  2008\n",
      "28                       Billy the Kid Versus Dracula  1966\n",
      "29                                     Khooni Dracula  1992\n",
      "30                                    Dawn of Dracula  2013\n",
      "31                              The Return of Dracula  1958\n",
      "32                              Batman Fights Dracula  1967\n",
      "33                                        Dracula 0.9  2012\n",
      "34                                  Dracula A.D. 2015  2015\n",
      "35                                       Lady Dracula  1977\n",
      "36                        Les Charlots contre Dracula  1980\n",
      "37                                The Sins of Dracula  2014\n",
      "38                                       Mama Dracula  1980\n",
      "39                                Dracula the Impaler  2002\n",
      "40                                         Dracula 3D  2012\n",
      "41                                  Blood for Dracula  1974\n",
      "42                            Fracchia contro Dracula  1985\n",
      "43                                    Dracula's Widow  1988\n",
      "44                                    Cult of Dracula  2016\n",
      "45                                      Dracula's War  2018\n",
      "46                        Dracula: Dead and Loving It  1995\n",
      "47                                  Kwansukui Dracula  1982\n",
      "48                                    Dracula: Reborn  2012\n",
      "49                                            Dracula  2019\n",
      "50                                     Son of Dracula  1943\n",
      "51                            Il risveglio di Dracula  1963\n",
      "52                        Dracula: Prince of Darkness  1966\n",
      "53                 The Making of 'Dracula and Stoker'  2012\n",
      "54                                   Countess Dracula  1971\n",
      "55                                     Dracula Untold  2014\n",
      "56                                   Dreaming Dracula  2014\n",
      "57                         Creep Creepersin's Dracula  2013\n",
      "58                                       Dracula 2000  2000\n",
      "59                                            Dracula  1979\n",
      "60                                    Dracula's Curse  2006\n",
      "61                         Graf Dracula in Oberbayern  1979\n",
      "62                                   Shaitani Dracula  2006\n",
      "63                          Killer Barbys vs. Dracula  2002\n",
      "64                                 Dracula's Daughter  1936\n",
      "65                       Dracula's Orgy of the Damned  2013\n",
      "66                                       Dracula 3000  2004\n",
      "67                           Dracula vs. Frankenstein  1971\n",
      "68                                     Doctor Dracula  1978\n",
      "69                           Frankenstein vs. Dracula  2018\n",
      "70                           Dracula: The Dark Prince  2013\n",
      "71      Allen and Rossi Meet Dracula and Frankenstein  1974\n",
      "72                                La fille de Dracula  1972\n",
      "73                                   Saint Dracula 3D  2012\n",
      "74                                    Dracula's Angel  2014\n",
      "75                       Nachts, wenn Dracula erwacht  1970\n",
      "76                         Taste the Blood of Dracula  1970\n",
      "77                                  Dracula A.D. 1972  1972\n",
      "78                                      Dracula's Dog  1978\n",
      "79                                        Dracula Now  2015\n",
      "80                       The Satanic Rites of Dracula  1973\n",
      "81                                     Son of Dracula  1974\n",
      "82                                 Dracula and Stoker  2012 \n",
      "Total películas: 83\n"
     ]
    }
   ],
   "source": [
    "pd.options.display.max_rows = None\n",
    "drac=dft[dft[\"title\"].str.contains(\"Dracula\")].reset_index().drop(['index'], axis=1)\n",
    "print(\"Las películas con Dracula en el nombre son: \\n\", drac, \"\\nTotal películas:\", len(drac))"
   ]
  },
  {
   "cell_type": "markdown",
   "metadata": {},
   "source": [
    "Mostrar los 10 titulos más comunes (que más se repiten)"
   ]
  },
  {
   "cell_type": "code",
   "execution_count": 9,
   "metadata": {},
   "outputs": [
    {
     "name": "stdout",
     "output_type": "stream",
     "text": [
      "Los 10 títulos más comunes son:\n"
     ]
    },
    {
     "data": {
      "text/plain": [
       "Hamlet                  19\n",
       "Carmen                  16\n",
       "Macbeth                 15\n",
       "Maya                    11\n",
       "The Outsider            11\n",
       "Hero                    11\n",
       "Othello                 11\n",
       "The Three Musketeers    11\n",
       "Anna                    10\n",
       "Vengeance               10\n",
       "Name: title, dtype: int64"
      ]
     },
     "execution_count": 9,
     "metadata": {},
     "output_type": "execute_result"
    }
   ],
   "source": [
    "print(\"Los 10 títulos más comunes son:\") \n",
    "dft[\"title\"].value_counts().head(10)"
   ]
  },
  {
   "cell_type": "markdown",
   "metadata": {},
   "source": [
    "Mostrar cual fue la primer pelicula hecha titulada \"Romeo and Juliet\""
   ]
  },
  {
   "cell_type": "code",
   "execution_count": 10,
   "metadata": {},
   "outputs": [
    {
     "name": "stdout",
     "output_type": "stream",
     "text": [
      "              title  year\n",
      "0  Romeo and Juliet  1916\n",
      "La primera película titulada Romeo and Juliet fue estrenada en 1916\n"
     ]
    }
   ],
   "source": [
    "RyJ=dft[dft[\"title\"].str.contains(\"Romeo and Juliet\")].sort_values(by=\"year\").head(1).reset_index().drop(['index'], axis=1)\n",
    "print(RyJ)\n",
    "print(\"La primera película titulada {} fue estrenada en {}\".format(RyJ['title'].iloc[0], RyJ['year'].iloc[0]))\n"
   ]
  },
  {
   "cell_type": "markdown",
   "metadata": {},
   "source": [
    "Listar todas las peliculas que contengan la palabra \"Exorcist\" ordenadas de la más vieja a la más reciente"
   ]
  },
  {
   "cell_type": "code",
   "execution_count": 11,
   "metadata": {},
   "outputs": [
    {
     "data": {
      "text/html": [
       "<div>\n",
       "<style scoped>\n",
       "    .dataframe tbody tr th:only-of-type {\n",
       "        vertical-align: middle;\n",
       "    }\n",
       "\n",
       "    .dataframe tbody tr th {\n",
       "        vertical-align: top;\n",
       "    }\n",
       "\n",
       "    .dataframe thead th {\n",
       "        text-align: right;\n",
       "    }\n",
       "</style>\n",
       "<table border=\"1\" class=\"dataframe\">\n",
       "  <thead>\n",
       "    <tr style=\"text-align: right;\">\n",
       "      <th></th>\n",
       "      <th>title</th>\n",
       "      <th>year</th>\n",
       "    </tr>\n",
       "  </thead>\n",
       "  <tbody>\n",
       "    <tr>\n",
       "      <th>0</th>\n",
       "      <td>The Exorcist</td>\n",
       "      <td>1973</td>\n",
       "    </tr>\n",
       "    <tr>\n",
       "      <th>1</th>\n",
       "      <td>O Exorcista de Mulheres</td>\n",
       "      <td>1974</td>\n",
       "    </tr>\n",
       "    <tr>\n",
       "      <th>2</th>\n",
       "      <td>Exorcist II: The Heretic</td>\n",
       "      <td>1977</td>\n",
       "    </tr>\n",
       "    <tr>\n",
       "      <th>3</th>\n",
       "      <td>Kung Fu Exorcist</td>\n",
       "      <td>1978</td>\n",
       "    </tr>\n",
       "    <tr>\n",
       "      <th>4</th>\n",
       "      <td>The Exorcist III</td>\n",
       "      <td>1990</td>\n",
       "    </tr>\n",
       "    <tr>\n",
       "      <th>5</th>\n",
       "      <td>Teenage Exorcist</td>\n",
       "      <td>1991</td>\n",
       "    </tr>\n",
       "    <tr>\n",
       "      <th>6</th>\n",
       "      <td>Exorcist: The Beginning</td>\n",
       "      <td>2004</td>\n",
       "    </tr>\n",
       "    <tr>\n",
       "      <th>7</th>\n",
       "      <td>Dominion: Prequel to the Exorcist</td>\n",
       "      <td>2005</td>\n",
       "    </tr>\n",
       "    <tr>\n",
       "      <th>8</th>\n",
       "      <td>Costa Chica: Confession of an Exorcist</td>\n",
       "      <td>2006</td>\n",
       "    </tr>\n",
       "    <tr>\n",
       "      <th>9</th>\n",
       "      <td>Exorcist Chronicles</td>\n",
       "      <td>2007</td>\n",
       "    </tr>\n",
       "    <tr>\n",
       "      <th>10</th>\n",
       "      <td>The Disco Exorcist</td>\n",
       "      <td>2011</td>\n",
       "    </tr>\n",
       "    <tr>\n",
       "      <th>11</th>\n",
       "      <td>Exorcist Chronicles</td>\n",
       "      <td>2013</td>\n",
       "    </tr>\n",
       "    <tr>\n",
       "      <th>12</th>\n",
       "      <td>Shark Exorcist</td>\n",
       "      <td>2015</td>\n",
       "    </tr>\n",
       "    <tr>\n",
       "      <th>13</th>\n",
       "      <td>Bad Exorcists</td>\n",
       "      <td>2015</td>\n",
       "    </tr>\n",
       "    <tr>\n",
       "      <th>14</th>\n",
       "      <td>Exorcistas</td>\n",
       "      <td>2015</td>\n",
       "    </tr>\n",
       "    <tr>\n",
       "      <th>15</th>\n",
       "      <td>Accidental Exorcist</td>\n",
       "      <td>2016</td>\n",
       "    </tr>\n",
       "    <tr>\n",
       "      <th>16</th>\n",
       "      <td>American Exorcist</td>\n",
       "      <td>2016</td>\n",
       "    </tr>\n",
       "    <tr>\n",
       "      <th>17</th>\n",
       "      <td>Diary of an Exorcist</td>\n",
       "      <td>2016</td>\n",
       "    </tr>\n",
       "    <tr>\n",
       "      <th>18</th>\n",
       "      <td>Exorcist House of Evil</td>\n",
       "      <td>2016</td>\n",
       "    </tr>\n",
       "  </tbody>\n",
       "</table>\n",
       "</div>"
      ],
      "text/plain": [
       "                                     title  year\n",
       "0                             The Exorcist  1973\n",
       "1                  O Exorcista de Mulheres  1974\n",
       "2                 Exorcist II: The Heretic  1977\n",
       "3                         Kung Fu Exorcist  1978\n",
       "4                         The Exorcist III  1990\n",
       "5                         Teenage Exorcist  1991\n",
       "6                  Exorcist: The Beginning  2004\n",
       "7        Dominion: Prequel to the Exorcist  2005\n",
       "8   Costa Chica: Confession of an Exorcist  2006\n",
       "9                      Exorcist Chronicles  2007\n",
       "10                      The Disco Exorcist  2011\n",
       "11                     Exorcist Chronicles  2013\n",
       "12                          Shark Exorcist  2015\n",
       "13                           Bad Exorcists  2015\n",
       "14                              Exorcistas  2015\n",
       "15                     Accidental Exorcist  2016\n",
       "16                       American Exorcist  2016\n",
       "17                    Diary of an Exorcist  2016\n",
       "18                  Exorcist House of Evil  2016"
      ]
     },
     "execution_count": 11,
     "metadata": {},
     "output_type": "execute_result"
    }
   ],
   "source": [
    "dft[dft[\"title\"].str.contains(\"Exorcist\")].sort_values(by=\"year\").reset_index().drop(['index'], axis=1)"
   ]
  },
  {
   "cell_type": "markdown",
   "metadata": {},
   "source": [
    "Mostrar cuantas peliculas fueron hechas en el año 1950"
   ]
  },
  {
   "cell_type": "code",
   "execution_count": 12,
   "metadata": {},
   "outputs": [
    {
     "name": "stdout",
     "output_type": "stream",
     "text": [
      "Películas hechas en 1950: 1081\n"
     ]
    }
   ],
   "source": [
    "print(\"Películas hechas en 1950:\", len(dft[dft[\"year\"]==1950]))"
   ]
  },
  {
   "cell_type": "markdown",
   "metadata": {},
   "source": [
    "Mostrar cuantas peliculas fueron hechas de 1950 a 1959"
   ]
  },
  {
   "cell_type": "code",
   "execution_count": 13,
   "metadata": {},
   "outputs": [
    {
     "name": "stdout",
     "output_type": "stream",
     "text": [
      "Películas hechas entre 1950 y 1959: 12606\n"
     ]
    }
   ],
   "source": [
    "print(\"Películas hechas entre 1950 y 1959:\", len(dft[(dft[\"year\"]>=1950) & (dft[\"year\"]<=1959)]))"
   ]
  },
  {
   "cell_type": "markdown",
   "metadata": {},
   "source": [
    "Mostrar todos los roles o papeles que hubo en la pelicula \"The Godfather\". También mostrar el número total de coincidencias"
   ]
  },
  {
   "cell_type": "code",
   "execution_count": 20,
   "metadata": {},
   "outputs": [
    {
     "name": "stdout",
     "output_type": "stream",
     "text": [
      "Los papeles en The Godfather son: \n",
      "       index          title  year                   name     type  \\\n",
      "0     51214  The Godfather  1972        Chris Anastasio    actor   \n",
      "1    102809  The Godfather  1972       Norm Bacchiocchi    actor   \n",
      "2    220852  The Godfather  1972              Rudy Bond    actor   \n",
      "3    248000  The Godfather  1972          Marlon Brando    actor   \n",
      "4    248738  The Godfather  1972             Max Brandt    actor   \n",
      "5    259495  The Godfather  1972         Richard Bright    actor   \n",
      "6    306807  The Godfather  1972             James Caan    actor   \n",
      "7    349145  The Godfather  1972  Richard S. Castellano    actor   \n",
      "8    355932  The Godfather  1972            John Cazale    actor   \n",
      "9    403361  The Godfather  1972           Franco Citti    actor   \n",
      "10   437796  The Godfather  1972          Richard Conte    actor   \n",
      "11   446047  The Godfather  1972        Carmine Coppola    actor   \n",
      "12   446094  The Godfather  1972     Gian-Carlo Coppola    actor   \n",
      "13   446147  The Godfather  1972          Roman Coppola    actor   \n",
      "14   453023  The Godfather  1972     Salvatore Corsitto    actor   \n",
      "15   456074  The Godfather  1972      Don (II) Costello    actor   \n",
      "16   492509  The Godfather  1972          Robert Dahdah    actor   \n",
      "17   613255  The Godfather  1972          Robert Duvall    actor   \n",
      "18   671581  The Godfather  1972           Richard Fass    actor   \n",
      "19   730299  The Godfather  1972      Gray Frederickson    actor   \n",
      "20   748995  The Godfather  1972          Corrado Gaipa    actor   \n",
      "21   790019  The Godfather  1972            Ron Gilbert    actor   \n",
      "22   795073  The Godfather  1972           Tony Giorgio    actor   \n",
      "23   823570  The Godfather  1972       Anthony Gounaris    actor   \n",
      "24   846495  The Godfather  1972          Joe Lo Grippo    actor   \n",
      "25   848619  The Godfather  1972           Sonny Grosso    actor   \n",
      "26   859882  The Godfather  1972             Louis Guss    actor   \n",
      "27   918579  The Godfather  1972        Sterling Hayden    actor   \n",
      "28  1015341  The Godfather  1972         Angelo Infanti    actor   \n",
      "29  1057040  The Godfather  1972        Merril E. Joels    actor   \n",
      "30  1082065  The Godfather  1972        Randy Jurgensen    actor   \n",
      "31  1146749  The Godfather  1972              Tony King    actor   \n",
      "32  1253295  The Godfather  1972       Peter Lemongello    actor   \n",
      "33  1260607  The Godfather  1972            Al Lettieri    actor   \n",
      "34  1279489  The Godfather  1972               Tony Lip    actor   \n",
      "35  1368787  The Godfather  1972            John Marley    actor   \n",
      "36  1381407  The Godfather  1972        Lou Martini Jr.    actor   \n",
      "37  1381599  The Godfather  1972             Al Martino    actor   \n",
      "38  1381650  The Godfather  1972           John Martino    actor   \n",
      "39  1381701  The Godfather  1972        Raymond Martino    actor   \n",
      "40  1438219  The Godfather  1972        Joseph Medaglia    actor   \n",
      "41  1497435  The Godfather  1972          Lenny Montana    actor   \n",
      "42  1642816  The Godfather  1972              Al Pacino    actor   \n",
      "43  1703363  The Godfather  1972        Rick Petrucelli    actor   \n",
      "44  1703382  The Godfather  1972           Joe Petrullo    actor   \n",
      "45  1808526  The Godfather  1972         Victor Rendina    actor   \n",
      "46  1820399  The Godfather  1972          Burt Richards    actor   \n",
      "47  1821261  The Godfather  1972           Sal Richards    actor   \n",
      "48  1847779  The Godfather  1972             Alex Rocco    actor   \n",
      "49  1869206  The Godfather  1972             Tom Rosqui    actor   \n",
      "50  1882679  The Godfather  1972           Nino Ruggeri    actor   \n",
      "51  1888284  The Godfather  1972           Gianni Russo    actor   \n",
      "52  1952800  The Godfather  1972            Vito Scotti    actor   \n",
      "53  2014419  The Godfather  1972           Frank Sivero    actor   \n",
      "54  2051776  The Godfather  1972            Joe Spinell    actor   \n",
      "55  2175947  The Godfather  1972        Gabriele Torrei    actor   \n",
      "56  2210716  The Godfather  1972              Saro Urz?    actor   \n",
      "57  2216872  The Godfather  1972        Nick Vallelonga    actor   \n",
      "58  2226722  The Godfather  1972             Ed Vantura    actor   \n",
      "59  2241142  The Godfather  1972          Ron (II) Veto    actor   \n",
      "60  2244677  The Godfather  1972             Abe Vigoda    actor   \n",
      "61  2254159  The Godfather  1972       Matthew Vlahakis    actor   \n",
      "62  2371276  The Godfather  1972            Conrad Yama    actor   \n",
      "63  2530787  The Godfather  1972          Tybee Brascia  actress   \n",
      "64  2620166  The Godfather  1972         Italia Coppola  actress   \n",
      "65  2620195  The Godfather  1972          Sofia Coppola  actress   \n",
      "66  2811070  The Godfather  1972            Julie Gregg  actress   \n",
      "67  2935727  The Godfather  1972           Diane Keaton  actress   \n",
      "68  2950705  The Godfather  1972           Morgana King  actress   \n",
      "69  3020378  The Godfather  1972         Jeannie Linero  actress   \n",
      "70  3023908  The Godfather  1972           Tere Livrano  actress   \n",
      "71  3137607  The Godfather  1972           Carol Morley  actress   \n",
      "72  3360381  The Godfather  1972        Ardell Sheridan  actress   \n",
      "73  3363276  The Godfather  1972            Talia Shire  actress   \n",
      "74  3390198  The Godfather  1972     Filomena Spagnuolo  actress   \n",
      "75  3399922  The Godfather  1972   Simonetta Stefanelli  actress   \n",
      "\n",
      "                              character     n  \n",
      "0                             Policeman   NaN  \n",
      "1                 Luca Brasi's Assassin   NaN  \n",
      "2                                 Cuneo  15.0  \n",
      "3                     Don Vito Corleone   1.0  \n",
      "4       Extra in Furniture-Moving Scene   NaN  \n",
      "5                                  Neri  21.0  \n",
      "6                        Sonny Corleone   3.0  \n",
      "7                              Clemenza   4.0  \n",
      "8                                 Fredo  14.0  \n",
      "9              Calo - Sicilian Sequence  33.0  \n",
      "10                              Barzini   8.0  \n",
      "11              Piano Player in Montage   NaN  \n",
      "12                     Baptism Observer   NaN  \n",
      "13   Boy on Street Who Attended Funeral   NaN  \n",
      "14                             Bonasera  20.0  \n",
      "15                   Don Victor Stracci   NaN  \n",
      "16                                Crowd   NaN  \n",
      "17                            Tom Hagen   5.0  \n",
      "18                      Tom Hagen's son   NaN  \n",
      "19  Cowboy on the Set at Woltz's Studio   NaN  \n",
      "20    Don Tommasino - Sicilian Sequence  32.0  \n",
      "21                Usher in Bridal Party   NaN  \n",
      "22                      Bruno Tattaglia  23.0  \n",
      "23                Anthony Vito Corleone   NaN  \n",
      "24                    Sonny's Bodyguard   NaN  \n",
      "25                 Cop Outside Hospital   NaN  \n",
      "26                          Don Zaluchi   NaN  \n",
      "27                      Capt. McCluskey   6.0  \n",
      "28         Fabrizio - Sicilian Sequence  31.0  \n",
      "29                  Toll Both Collector   NaN  \n",
      "30                    Sonny's Killer #1   NaN  \n",
      "31                    Tony - Stablehand   NaN  \n",
      "32                               Singer   NaN  \n",
      "33                             Sollozzo   9.0  \n",
      "34                        Wedding Guest   NaN  \n",
      "35                           Jack Woltz   7.0  \n",
      "36                       Boy at Wedding   NaN  \n",
      "37                       Johnny Fontane  16.0  \n",
      "38                         Paulie Gatto  19.0  \n",
      "39               Corleone Family Member   NaN  \n",
      "40                    Priest at Baptism   NaN  \n",
      "41                           Luca Brasi  18.0  \n",
      "42                     Michael Corleone   2.0  \n",
      "43              Lou - Sollozzo's Driver   NaN  \n",
      "44                           Pallbearer   NaN  \n",
      "45                     Philip Tattaglia  26.0  \n",
      "46                      Floral Designer   NaN  \n",
      "47                                Drunk   NaN  \n",
      "48                           Moe Greene  22.0  \n",
      "49                        Rocco Lampone   NaN  \n",
      "50      Mobster at Funeral with Barzini   NaN  \n",
      "51                                Carlo  13.0  \n",
      "52                             Nazorine  24.0  \n",
      "53                         Street Extra   NaN  \n",
      "54                          Willi Cicci   NaN  \n",
      "55                       Enzo the Baker   NaN  \n",
      "56          Vitelli - Sicilian Sequence  34.0  \n",
      "57                  Wedding Party Guest   NaN  \n",
      "58                        Wedding Guest   NaN  \n",
      "59              Extra in Hospital Scene   NaN  \n",
      "60                               Tessio  11.0  \n",
      "61                       Clemenza's Son   NaN  \n",
      "62                         Fruit Vendor   NaN  \n",
      "63              Dancer in Wedding Scene   NaN  \n",
      "64                                Extra   NaN  \n",
      "65                Michael Francis Rizzi   NaN  \n",
      "66                      Sandra Corleone  28.0  \n",
      "67                            Kay Adams  10.0  \n",
      "68                        Mama Corleone  17.0  \n",
      "69                         Lucy Mancini  27.0  \n",
      "70                        Theresa Hagen  25.0  \n",
      "71                          Night Nurse   NaN  \n",
      "72                        Mrs. Clemenza  29.0  \n",
      "73                               Connie  12.0  \n",
      "74               Extra in Wedding Scene   NaN  \n",
      "75        Apollonia - Sicilian Sequence  30.0   \n",
      "Total papeles: 76\n",
      "\n",
      "\n"
     ]
    }
   ],
   "source": [
    "gf=dfe[dfe[\"title\"]==(\"The Godfather\")].reset_index()\n",
    "print(\"Los papeles en The Godfather son: \\n\", gf, \"\\nTotal papeles:\", len(gf))"
   ]
  },
  {
   "cell_type": "markdown",
   "metadata": {},
   "source": [
    "Mostrar el elenco completo ordenado por la clasificacion \"n\" de la pelicula \"Dracula\" de 1958"
   ]
  },
  {
   "cell_type": "code",
   "execution_count": 27,
   "metadata": {},
   "outputs": [
    {
     "name": "stdout",
     "output_type": "stream",
     "text": [
      "Elenco de Dracula de 1958 ordenado por importancia: \n",
      "       index    title  year                   name     type  \\\n",
      "0    485197  Dracula  1958          Peter Cushing    actor   \n",
      "1   1242307  Dracula  1958        Christopher Lee    actor   \n",
      "2   1242308  Dracula  1958        Christopher Lee    actor   \n",
      "3    822398  Dracula  1958          Michael Gough    actor   \n",
      "4   3410427  Dracula  1958      Melissa Stribling  actress   \n",
      "5   3069196  Dracula  1958            Carol Marsh  actress   \n",
      "6   2677557  Dracula  1958            Olga Dickie  actress   \n",
      "7   2220986  Dracula  1958        John Van Eyssen    actor   \n",
      "8   2777216  Dracula  1958          Valerie Gaunt  actress   \n",
      "9   2731182  Dracula  1958            Janina Faye  actress   \n",
      "10  2444220  Dracula  1958         Barbara Archer  actress   \n",
      "11  1285506  Dracula  1958     Charles Lloyd Pack    actor   \n",
      "12  1453367  Dracula  1958         George Merritt    actor   \n",
      "13  2357769  Dracula  1958      George Woodbridge    actor   \n",
      "14   171732  Dracula  1958          George Benson    actor   \n",
      "15  1347640  Dracula  1958         Miles Malleson    actor   \n",
      "16   148496  Dracula  1958       Geoffrey Bayldon    actor   \n",
      "17   423307  Dracula  1958              Paul Cole    actor   \n",
      "18  1475047  Dracula  1958              Guy Mills    actor   \n",
      "19  1513434  Dracula  1958  Richard (VIII) Morgan    actor   \n",
      "20  1524497  Dracula  1958      John (II) Mossman    actor   \n",
      "\n",
      "                   character     n  \n",
      "0         Doctor Van Helsing   1.0  \n",
      "1                    Dracula   2.0  \n",
      "2              Count Dracula   2.0  \n",
      "3                     Arthur   3.0  \n",
      "4                       Mina   4.0  \n",
      "5                       Lucy   5.0  \n",
      "6                      Gerda   6.0  \n",
      "7                   Jonathan   7.0  \n",
      "8              Vampire Woman   8.0  \n",
      "9                      Tania   9.0  \n",
      "10                      Inga  10.0  \n",
      "11             Doctor Seward  11.0  \n",
      "12                 Policeman  12.0  \n",
      "13                  Landlord  13.0  \n",
      "14                  Official  14.0  \n",
      "15                Undertaker  15.0  \n",
      "16                    Porter  16.0  \n",
      "17                       Lad  17.0  \n",
      "18              Coach Driver   NaN  \n",
      "19  Coach Driver's Companion   NaN  \n",
      "20             Hearse Driver   NaN  \n"
     ]
    }
   ],
   "source": [
    "drac=dfe[(dfe[\"title\"]==(\"Dracula\")) & (dfe[\"year\"]==1958)].sort_values(by=\"n\").reset_index()\n",
    "print(\"Elenco de Dracula de 1958 ordenado por importancia: \\n\", drac)"
   ]
  },
  {
   "cell_type": "markdown",
   "metadata": {},
   "source": [
    "Mostrar cuantos papeles de \"Bruce Wayne\" han sido hechos en la historia de las peliculas"
   ]
  },
  {
   "cell_type": "code",
   "execution_count": 32,
   "metadata": {},
   "outputs": [
    {
     "name": "stdout",
     "output_type": "stream",
     "text": [
      "Total papeles de Bruce Wayne: 38\n"
     ]
    }
   ],
   "source": [
    "print(\"Total papeles de Bruce Wayne:\", len(dfe[dfe[\"character\"]==\"Bruce Wayne\"]))"
   ]
  },
  {
   "cell_type": "markdown",
   "metadata": {},
   "source": [
    "Mostrar cuantos papeles ha hecho \"Robert De Niro\" en su carrera"
   ]
  },
  {
   "cell_type": "code",
   "execution_count": 34,
   "metadata": {},
   "outputs": [
    {
     "name": "stdout",
     "output_type": "stream",
     "text": [
      "Total papeles de Robert De Niro: 103\n"
     ]
    }
   ],
   "source": [
    "print(\"Total papeles de Robert De Niro:\", len(dfe[dfe[\"name\"]==\"Robert De Niro\"]))"
   ]
  },
  {
   "cell_type": "markdown",
   "metadata": {},
   "source": [
    "Listado de papeles como protagonista (n=1) que tuvo el actor \"Charlton Heston\" en la década de los 60's, ordenado por año de forma descendente"
   ]
  },
  {
   "cell_type": "code",
   "execution_count": 49,
   "metadata": {},
   "outputs": [
    {
     "data": {
      "text/html": [
       "<div>\n",
       "<style scoped>\n",
       "    .dataframe tbody tr th:only-of-type {\n",
       "        vertical-align: middle;\n",
       "    }\n",
       "\n",
       "    .dataframe tbody tr th {\n",
       "        vertical-align: top;\n",
       "    }\n",
       "\n",
       "    .dataframe thead th {\n",
       "        text-align: right;\n",
       "    }\n",
       "</style>\n",
       "<table border=\"1\" class=\"dataframe\">\n",
       "  <thead>\n",
       "    <tr style=\"text-align: right;\">\n",
       "      <th></th>\n",
       "      <th>title</th>\n",
       "      <th>year</th>\n",
       "      <th>name</th>\n",
       "      <th>type</th>\n",
       "      <th>character</th>\n",
       "      <th>n</th>\n",
       "    </tr>\n",
       "  </thead>\n",
       "  <tbody>\n",
       "    <tr>\n",
       "      <th>0</th>\n",
       "      <td>Number One</td>\n",
       "      <td>1969</td>\n",
       "      <td>Charlton Heston</td>\n",
       "      <td>actor</td>\n",
       "      <td>Ron 'Cat' Catlan</td>\n",
       "      <td>1.0</td>\n",
       "    </tr>\n",
       "    <tr>\n",
       "      <th>1</th>\n",
       "      <td>Planet of the Apes</td>\n",
       "      <td>1968</td>\n",
       "      <td>Charlton Heston</td>\n",
       "      <td>actor</td>\n",
       "      <td>George Taylor</td>\n",
       "      <td>1.0</td>\n",
       "    </tr>\n",
       "    <tr>\n",
       "      <th>2</th>\n",
       "      <td>Counterpoint</td>\n",
       "      <td>1967</td>\n",
       "      <td>Charlton Heston</td>\n",
       "      <td>actor</td>\n",
       "      <td>Lionel Evans</td>\n",
       "      <td>1.0</td>\n",
       "    </tr>\n",
       "    <tr>\n",
       "      <th>3</th>\n",
       "      <td>Will Penny</td>\n",
       "      <td>1967</td>\n",
       "      <td>Charlton Heston</td>\n",
       "      <td>actor</td>\n",
       "      <td>Will Penny</td>\n",
       "      <td>1.0</td>\n",
       "    </tr>\n",
       "    <tr>\n",
       "      <th>4</th>\n",
       "      <td>Khartoum</td>\n",
       "      <td>1966</td>\n",
       "      <td>Charlton Heston</td>\n",
       "      <td>actor</td>\n",
       "      <td>Gen. Charles 'Chinese' Gordon</td>\n",
       "      <td>1.0</td>\n",
       "    </tr>\n",
       "    <tr>\n",
       "      <th>5</th>\n",
       "      <td>Major Dundee</td>\n",
       "      <td>1965</td>\n",
       "      <td>Charlton Heston</td>\n",
       "      <td>actor</td>\n",
       "      <td>Major Amos Charles Dundee</td>\n",
       "      <td>1.0</td>\n",
       "    </tr>\n",
       "    <tr>\n",
       "      <th>6</th>\n",
       "      <td>The Agony and the Ecstasy</td>\n",
       "      <td>1965</td>\n",
       "      <td>Charlton Heston</td>\n",
       "      <td>actor</td>\n",
       "      <td>Michelangelo</td>\n",
       "      <td>1.0</td>\n",
       "    </tr>\n",
       "    <tr>\n",
       "      <th>7</th>\n",
       "      <td>The War Lord</td>\n",
       "      <td>1965</td>\n",
       "      <td>Charlton Heston</td>\n",
       "      <td>actor</td>\n",
       "      <td>Chrysagon</td>\n",
       "      <td>1.0</td>\n",
       "    </tr>\n",
       "    <tr>\n",
       "      <th>8</th>\n",
       "      <td>55 Days at Peking</td>\n",
       "      <td>1963</td>\n",
       "      <td>Charlton Heston</td>\n",
       "      <td>actor</td>\n",
       "      <td>Maj. Matt Lewis</td>\n",
       "      <td>1.0</td>\n",
       "    </tr>\n",
       "    <tr>\n",
       "      <th>9</th>\n",
       "      <td>Diamond Head</td>\n",
       "      <td>1962</td>\n",
       "      <td>Charlton Heston</td>\n",
       "      <td>actor</td>\n",
       "      <td>Richard 'King' Howland</td>\n",
       "      <td>1.0</td>\n",
       "    </tr>\n",
       "    <tr>\n",
       "      <th>10</th>\n",
       "      <td>The Pigeon That Took Rome</td>\n",
       "      <td>1962</td>\n",
       "      <td>Charlton Heston</td>\n",
       "      <td>actor</td>\n",
       "      <td>Captain Paul MacDougall</td>\n",
       "      <td>1.0</td>\n",
       "    </tr>\n",
       "    <tr>\n",
       "      <th>11</th>\n",
       "      <td>The Pigeon That Took Rome</td>\n",
       "      <td>1962</td>\n",
       "      <td>Charlton Heston</td>\n",
       "      <td>actor</td>\n",
       "      <td>Benny the Snatch</td>\n",
       "      <td>1.0</td>\n",
       "    </tr>\n",
       "    <tr>\n",
       "      <th>12</th>\n",
       "      <td>The Pigeon That Took Rome</td>\n",
       "      <td>1962</td>\n",
       "      <td>Charlton Heston</td>\n",
       "      <td>actor</td>\n",
       "      <td>Narrator</td>\n",
       "      <td>1.0</td>\n",
       "    </tr>\n",
       "    <tr>\n",
       "      <th>13</th>\n",
       "      <td>El Cid</td>\n",
       "      <td>1961</td>\n",
       "      <td>Charlton Heston</td>\n",
       "      <td>actor</td>\n",
       "      <td>El Cid Rodrigo de Vivar</td>\n",
       "      <td>1.0</td>\n",
       "    </tr>\n",
       "  </tbody>\n",
       "</table>\n",
       "</div>"
      ],
      "text/plain": [
       "                        title  year             name   type  \\\n",
       "0                  Number One  1969  Charlton Heston  actor   \n",
       "1          Planet of the Apes  1968  Charlton Heston  actor   \n",
       "2                Counterpoint  1967  Charlton Heston  actor   \n",
       "3                  Will Penny  1967  Charlton Heston  actor   \n",
       "4                    Khartoum  1966  Charlton Heston  actor   \n",
       "5                Major Dundee  1965  Charlton Heston  actor   \n",
       "6   The Agony and the Ecstasy  1965  Charlton Heston  actor   \n",
       "7                The War Lord  1965  Charlton Heston  actor   \n",
       "8           55 Days at Peking  1963  Charlton Heston  actor   \n",
       "9                Diamond Head  1962  Charlton Heston  actor   \n",
       "10  The Pigeon That Took Rome  1962  Charlton Heston  actor   \n",
       "11  The Pigeon That Took Rome  1962  Charlton Heston  actor   \n",
       "12  The Pigeon That Took Rome  1962  Charlton Heston  actor   \n",
       "13                     El Cid  1961  Charlton Heston  actor   \n",
       "\n",
       "                        character    n  \n",
       "0                Ron 'Cat' Catlan  1.0  \n",
       "1                   George Taylor  1.0  \n",
       "2                    Lionel Evans  1.0  \n",
       "3                      Will Penny  1.0  \n",
       "4   Gen. Charles 'Chinese' Gordon  1.0  \n",
       "5       Major Amos Charles Dundee  1.0  \n",
       "6                    Michelangelo  1.0  \n",
       "7                       Chrysagon  1.0  \n",
       "8                 Maj. Matt Lewis  1.0  \n",
       "9          Richard 'King' Howland  1.0  \n",
       "10        Captain Paul MacDougall  1.0  \n",
       "11               Benny the Snatch  1.0  \n",
       "12                       Narrator  1.0  \n",
       "13        El Cid Rodrigo de Vivar  1.0  "
      ]
     },
     "execution_count": 49,
     "metadata": {},
     "output_type": "execute_result"
    }
   ],
   "source": [
    "dfe[(dfe[\"n\"]==1) & (dfe[\"name\"]==\"Charlton Heston\") & (dfe[\"year\"]>=1960) & (dfe[\"year\"]<=1969)].sort_values(by=\"year\", ascending=False).reset_index().drop(['index'], axis=1)"
   ]
  },
  {
   "cell_type": "markdown",
   "metadata": {},
   "source": [
    "Mostrar cuantos papeles para actores hubo en la década de los 50's"
   ]
  },
  {
   "cell_type": "code",
   "execution_count": 51,
   "metadata": {},
   "outputs": [
    {
     "name": "stdout",
     "output_type": "stream",
     "text": [
      "Total papeles para actores en la década de los 50's: 153998\n"
     ]
    }
   ],
   "source": [
    "print(\"Total papeles para actores en la década de los 50's:\", len(dfe[(dfe[\"type\"]==\"actor\") & (dfe[\"year\"]>=1950) & (dfe[\"year\"]<=1959)]))"
   ]
  },
  {
   "cell_type": "markdown",
   "metadata": {},
   "source": [
    "Mostrar cuantos papeles para actrices hubo en la década de los 50's"
   ]
  },
  {
   "cell_type": "code",
   "execution_count": 52,
   "metadata": {},
   "outputs": [
    {
     "name": "stdout",
     "output_type": "stream",
     "text": [
      "Total papeles para actores en la década de los 50's: 56004\n"
     ]
    }
   ],
   "source": [
    "print(\"Total papeles para actores en la década de los 50's:\", len(dfe[(dfe[\"type\"]==\"actress\") & (dfe[\"year\"]>=1950) & (dfe[\"year\"]<=1959)]))"
   ]
  }
 ],
 "metadata": {
  "kernelspec": {
   "display_name": "Python 3.10.7 64-bit",
   "language": "python",
   "name": "python3"
  },
  "language_info": {
   "codemirror_mode": {
    "name": "ipython",
    "version": 3
   },
   "file_extension": ".py",
   "mimetype": "text/x-python",
   "name": "python",
   "nbconvert_exporter": "python",
   "pygments_lexer": "ipython3",
   "version": "3.10.7"
  },
  "orig_nbformat": 4,
  "vscode": {
   "interpreter": {
    "hash": "5264f721a23242131e2cd1435c6f396c4a07f3216f42f5a927698946e7ff8eef"
   }
  }
 },
 "nbformat": 4,
 "nbformat_minor": 2
}
